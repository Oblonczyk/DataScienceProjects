{
 "cells": [
  {
   "cell_type": "markdown",
   "metadata": {},
   "source": [
    "<center>\n",
    "    <img src=\"https://cf-courses-data.s3.us.cloud-object-storage.appdomain.cloud/IBMDeveloperSkillsNetwork-DS0105EN-SkillsNetwork/labs/Module2/images/SN_web_lightmode.png\" width=\"300\" alt=\"cognitiveclass.ai logo\">\n",
    "</center>\n"
   ]
  },
  {
   "cell_type": "markdown",
   "metadata": {},
   "source": [
    "# Data Science Course and my learning"
   ]
  },
  {
   "cell_type": "markdown",
   "metadata": {},
   "source": [
    "In this year, my new objective is learn Data Science and after work with this technology. This course learn to me about a lot of tools and help me with git/github"
   ]
  },
  {
   "cell_type": "markdown",
   "metadata": {},
   "source": [
    "**Data Science Languages**\n",
    "- Python\n",
    "- R\n",
    "- SQL\n",
    "- Java\n",
    "- Julia\n",
    "- C++"
   ]
  },
  {
   "cell_type": "markdown",
   "metadata": {},
   "source": [
    "**Data Science Python Librarys**\n",
    "- Pandas\n",
    "- Numpy\n",
    "- Matplotlib\n",
    "- Scikit-Learn"
   ]
  },
  {
   "cell_type": "markdown",
   "metadata": {},
   "source": [
    "**Data Science Tools**\n",
    "- Jupyter Notebook\n",
    "- JupyterLab Notebook\n",
    "- Spyder\n",
    "- Google Colab\n",
    "- VSCode\n",
    "- Visual Studio"
   ]
  },
  {
   "cell_type": "markdown",
   "metadata": {},
   "source": [
    "**Arithmetic Expressions Examples**\n",
    "- plus (+)\n",
    "- minus (-)\n",
    "- times (*)\n",
    "- divided (/)\n",
    "- equals (=)\n",
    "- per cent (%)"
   ]
  },
  {
   "cell_type": "code",
   "execution_count": 3,
   "metadata": {},
   "outputs": [
    {
     "name": "stdout",
     "output_type": "stream",
     "text": [
      "115\n"
     ]
    }
   ],
   "source": [
    "number = 23\n",
    "second_number = 5\n",
    "result = number * second_number\n",
    "print(result)"
   ]
  },
  {
   "cell_type": "code",
   "execution_count": 4,
   "metadata": {},
   "outputs": [
    {
     "name": "stdin",
     "output_type": "stream",
     "text": [
      "Please, insert the minutes 223\n"
     ]
    },
    {
     "name": "stdout",
     "output_type": "stream",
     "text": [
      "3 Hours and  43 Minutes\n"
     ]
    }
   ],
   "source": [
    "def minutes_to_hours():\n",
    "    minutes_input = input(\"Please, insert the minutes\")\n",
    "    minutes = int(minutes_input)\n",
    "\n",
    "    hours = minutes // 60\n",
    "    rest_of_minutes = minutes % 60\n",
    "    print(hours, \"Hours and \", rest_of_minutes, \"Minutes\")\n",
    "minutes_to_hours()"
   ]
  },
  {
   "cell_type": "markdown",
   "metadata": {},
   "source": [
    "**Objectives**\n",
    "1. Learn Data Science\n",
    "2. Find a job when i can work with data science\n",
    "3. Read 12 books in 2025"
   ]
  },
  {
   "cell_type": "code",
   "execution_count": null,
   "metadata": {},
   "outputs": [],
   "source": []
  }
 ],
 "metadata": {
  "kernelspec": {
   "display_name": "Python 3 (ipykernel)",
   "language": "python",
   "name": "python3"
  },
  "language_info": {
   "codemirror_mode": {
    "name": "ipython",
    "version": 3
   },
   "file_extension": ".py",
   "mimetype": "text/x-python",
   "name": "python",
   "nbconvert_exporter": "python",
   "pygments_lexer": "ipython3",
   "version": "3.12.8"
  }
 },
 "nbformat": 4,
 "nbformat_minor": 4
}
